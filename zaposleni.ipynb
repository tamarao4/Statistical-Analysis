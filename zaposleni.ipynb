{
 "cells": [
  {
   "cell_type": "markdown",
   "metadata": {},
   "source": [
    "# Statisticka analiza zaposlenih u HR-u "
   ]
  },
  {
   "cell_type": "markdown",
   "metadata": {},
   "source": [
    "Izvor: https://www.kaggle.com/itssuru/hr-employee-attrition"
   ]
  },
  {
   "cell_type": "code",
   "execution_count": 1,
   "metadata": {},
   "outputs": [],
   "source": [
    "import pandas as pd\n",
    "import numpy as np\n",
    "import matplotlib.pyplot as plt\n",
    "import statsmodels.formula.api as sm\n",
    "from scipy import stats\n",
    "import seaborn as sns\n",
    "import statsmodels.formula.api as sm\n",
    "from scipy import stats\n",
    "from statsmodels.formula.api import ols"
   ]
  },
  {
   "cell_type": "markdown",
   "metadata": {},
   "source": [
    "### Ucitavanje svih podataka"
   ]
  },
  {
   "cell_type": "code",
   "execution_count": 2,
   "metadata": {},
   "outputs": [
    {
     "data": {
      "text/html": [
       "<div>\n",
       "<style scoped>\n",
       "    .dataframe tbody tr th:only-of-type {\n",
       "        vertical-align: middle;\n",
       "    }\n",
       "\n",
       "    .dataframe tbody tr th {\n",
       "        vertical-align: top;\n",
       "    }\n",
       "\n",
       "    .dataframe thead th {\n",
       "        text-align: right;\n",
       "    }\n",
       "</style>\n",
       "<table border=\"1\" class=\"dataframe\">\n",
       "  <thead>\n",
       "    <tr style=\"text-align: right;\">\n",
       "      <th></th>\n",
       "      <th>Age</th>\n",
       "      <th>Attrition</th>\n",
       "      <th>BusinessTravel</th>\n",
       "      <th>DailyRate</th>\n",
       "      <th>Department</th>\n",
       "      <th>DistanceFromHome</th>\n",
       "      <th>Education</th>\n",
       "      <th>EducationField</th>\n",
       "      <th>EmployeeCount</th>\n",
       "      <th>EmployeeNumber</th>\n",
       "      <th>...</th>\n",
       "      <th>RelationshipSatisfaction</th>\n",
       "      <th>StandardHours</th>\n",
       "      <th>StockOptionLevel</th>\n",
       "      <th>TotalWorkingYears</th>\n",
       "      <th>TrainingTimesLastYear</th>\n",
       "      <th>WorkLifeBalance</th>\n",
       "      <th>YearsAtCompany</th>\n",
       "      <th>YearsInCurrentRole</th>\n",
       "      <th>YearsSinceLastPromotion</th>\n",
       "      <th>YearsWithCurrManager</th>\n",
       "    </tr>\n",
       "  </thead>\n",
       "  <tbody>\n",
       "    <tr>\n",
       "      <th>0</th>\n",
       "      <td>41</td>\n",
       "      <td>Yes</td>\n",
       "      <td>Travel_Rarely</td>\n",
       "      <td>1102</td>\n",
       "      <td>Sales</td>\n",
       "      <td>1</td>\n",
       "      <td>2</td>\n",
       "      <td>Life Sciences</td>\n",
       "      <td>1</td>\n",
       "      <td>1</td>\n",
       "      <td>...</td>\n",
       "      <td>1</td>\n",
       "      <td>80</td>\n",
       "      <td>0</td>\n",
       "      <td>8</td>\n",
       "      <td>0</td>\n",
       "      <td>1</td>\n",
       "      <td>6</td>\n",
       "      <td>4</td>\n",
       "      <td>0</td>\n",
       "      <td>5</td>\n",
       "    </tr>\n",
       "    <tr>\n",
       "      <th>1</th>\n",
       "      <td>49</td>\n",
       "      <td>No</td>\n",
       "      <td>Travel_Frequently</td>\n",
       "      <td>279</td>\n",
       "      <td>Research &amp; Development</td>\n",
       "      <td>8</td>\n",
       "      <td>1</td>\n",
       "      <td>Life Sciences</td>\n",
       "      <td>1</td>\n",
       "      <td>2</td>\n",
       "      <td>...</td>\n",
       "      <td>4</td>\n",
       "      <td>80</td>\n",
       "      <td>1</td>\n",
       "      <td>10</td>\n",
       "      <td>3</td>\n",
       "      <td>3</td>\n",
       "      <td>10</td>\n",
       "      <td>7</td>\n",
       "      <td>1</td>\n",
       "      <td>7</td>\n",
       "    </tr>\n",
       "    <tr>\n",
       "      <th>2</th>\n",
       "      <td>37</td>\n",
       "      <td>Yes</td>\n",
       "      <td>Travel_Rarely</td>\n",
       "      <td>1373</td>\n",
       "      <td>Research &amp; Development</td>\n",
       "      <td>2</td>\n",
       "      <td>2</td>\n",
       "      <td>Other</td>\n",
       "      <td>1</td>\n",
       "      <td>4</td>\n",
       "      <td>...</td>\n",
       "      <td>2</td>\n",
       "      <td>80</td>\n",
       "      <td>0</td>\n",
       "      <td>7</td>\n",
       "      <td>3</td>\n",
       "      <td>3</td>\n",
       "      <td>0</td>\n",
       "      <td>0</td>\n",
       "      <td>0</td>\n",
       "      <td>0</td>\n",
       "    </tr>\n",
       "    <tr>\n",
       "      <th>3</th>\n",
       "      <td>33</td>\n",
       "      <td>No</td>\n",
       "      <td>Travel_Frequently</td>\n",
       "      <td>1392</td>\n",
       "      <td>Research &amp; Development</td>\n",
       "      <td>3</td>\n",
       "      <td>4</td>\n",
       "      <td>Life Sciences</td>\n",
       "      <td>1</td>\n",
       "      <td>5</td>\n",
       "      <td>...</td>\n",
       "      <td>3</td>\n",
       "      <td>80</td>\n",
       "      <td>0</td>\n",
       "      <td>8</td>\n",
       "      <td>3</td>\n",
       "      <td>3</td>\n",
       "      <td>8</td>\n",
       "      <td>7</td>\n",
       "      <td>3</td>\n",
       "      <td>0</td>\n",
       "    </tr>\n",
       "    <tr>\n",
       "      <th>4</th>\n",
       "      <td>27</td>\n",
       "      <td>No</td>\n",
       "      <td>Travel_Rarely</td>\n",
       "      <td>591</td>\n",
       "      <td>Research &amp; Development</td>\n",
       "      <td>2</td>\n",
       "      <td>1</td>\n",
       "      <td>Medical</td>\n",
       "      <td>1</td>\n",
       "      <td>7</td>\n",
       "      <td>...</td>\n",
       "      <td>4</td>\n",
       "      <td>80</td>\n",
       "      <td>1</td>\n",
       "      <td>6</td>\n",
       "      <td>3</td>\n",
       "      <td>3</td>\n",
       "      <td>2</td>\n",
       "      <td>2</td>\n",
       "      <td>2</td>\n",
       "      <td>2</td>\n",
       "    </tr>\n",
       "  </tbody>\n",
       "</table>\n",
       "<p>5 rows × 35 columns</p>\n",
       "</div>"
      ],
      "text/plain": [
       "   Age Attrition     BusinessTravel  DailyRate              Department  \\\n",
       "0   41       Yes      Travel_Rarely       1102                   Sales   \n",
       "1   49        No  Travel_Frequently        279  Research & Development   \n",
       "2   37       Yes      Travel_Rarely       1373  Research & Development   \n",
       "3   33        No  Travel_Frequently       1392  Research & Development   \n",
       "4   27        No      Travel_Rarely        591  Research & Development   \n",
       "\n",
       "   DistanceFromHome  Education EducationField  EmployeeCount  EmployeeNumber  \\\n",
       "0                 1          2  Life Sciences              1               1   \n",
       "1                 8          1  Life Sciences              1               2   \n",
       "2                 2          2          Other              1               4   \n",
       "3                 3          4  Life Sciences              1               5   \n",
       "4                 2          1        Medical              1               7   \n",
       "\n",
       "   ...  RelationshipSatisfaction StandardHours  StockOptionLevel  \\\n",
       "0  ...                         1            80                 0   \n",
       "1  ...                         4            80                 1   \n",
       "2  ...                         2            80                 0   \n",
       "3  ...                         3            80                 0   \n",
       "4  ...                         4            80                 1   \n",
       "\n",
       "   TotalWorkingYears  TrainingTimesLastYear WorkLifeBalance  YearsAtCompany  \\\n",
       "0                  8                      0               1               6   \n",
       "1                 10                      3               3              10   \n",
       "2                  7                      3               3               0   \n",
       "3                  8                      3               3               8   \n",
       "4                  6                      3               3               2   \n",
       "\n",
       "  YearsInCurrentRole  YearsSinceLastPromotion  YearsWithCurrManager  \n",
       "0                  4                        0                     5  \n",
       "1                  7                        1                     7  \n",
       "2                  0                        0                     0  \n",
       "3                  7                        3                     0  \n",
       "4                  2                        2                     2  \n",
       "\n",
       "[5 rows x 35 columns]"
      ]
     },
     "execution_count": 2,
     "metadata": {},
     "output_type": "execute_result"
    }
   ],
   "source": [
    "# Učitavanje i ispis prvih 5 redova\n",
    "data = pd.read_csv(\"HR-Employee-Attrition.csv\") \n",
    "data.head()"
   ]
  },
  {
   "cell_type": "markdown",
   "metadata": {},
   "source": [
    "### Ucitavanje podataka koji su potrebni za statisticku analizu"
   ]
  },
  {
   "cell_type": "code",
   "execution_count": 3,
   "metadata": {},
   "outputs": [
    {
     "data": {
      "text/html": [
       "<div>\n",
       "<style scoped>\n",
       "    .dataframe tbody tr th:only-of-type {\n",
       "        vertical-align: middle;\n",
       "    }\n",
       "\n",
       "    .dataframe tbody tr th {\n",
       "        vertical-align: top;\n",
       "    }\n",
       "\n",
       "    .dataframe thead th {\n",
       "        text-align: right;\n",
       "    }\n",
       "</style>\n",
       "<table border=\"1\" class=\"dataframe\">\n",
       "  <thead>\n",
       "    <tr style=\"text-align: right;\">\n",
       "      <th></th>\n",
       "      <th>Age</th>\n",
       "      <th>DistanceFromHome</th>\n",
       "      <th>Education</th>\n",
       "      <th>EmployeeNumber</th>\n",
       "      <th>EnvironmentSatisfaction</th>\n",
       "      <th>Gender</th>\n",
       "      <th>JobLevel</th>\n",
       "      <th>MonthlyIncome</th>\n",
       "      <th>MonthlyRate</th>\n",
       "      <th>NumCompaniesWorked</th>\n",
       "      <th>TotalWorkingYears</th>\n",
       "      <th>TrainingTimesLastYear</th>\n",
       "      <th>YearsAtCompany</th>\n",
       "    </tr>\n",
       "  </thead>\n",
       "  <tbody>\n",
       "    <tr>\n",
       "      <th>0</th>\n",
       "      <td>41</td>\n",
       "      <td>1</td>\n",
       "      <td>2</td>\n",
       "      <td>1</td>\n",
       "      <td>2</td>\n",
       "      <td>Female</td>\n",
       "      <td>2</td>\n",
       "      <td>5993</td>\n",
       "      <td>19479</td>\n",
       "      <td>8</td>\n",
       "      <td>8</td>\n",
       "      <td>0</td>\n",
       "      <td>6</td>\n",
       "    </tr>\n",
       "    <tr>\n",
       "      <th>1</th>\n",
       "      <td>49</td>\n",
       "      <td>8</td>\n",
       "      <td>1</td>\n",
       "      <td>2</td>\n",
       "      <td>3</td>\n",
       "      <td>Male</td>\n",
       "      <td>2</td>\n",
       "      <td>5130</td>\n",
       "      <td>24907</td>\n",
       "      <td>1</td>\n",
       "      <td>10</td>\n",
       "      <td>3</td>\n",
       "      <td>10</td>\n",
       "    </tr>\n",
       "    <tr>\n",
       "      <th>2</th>\n",
       "      <td>37</td>\n",
       "      <td>2</td>\n",
       "      <td>2</td>\n",
       "      <td>4</td>\n",
       "      <td>4</td>\n",
       "      <td>Male</td>\n",
       "      <td>1</td>\n",
       "      <td>2090</td>\n",
       "      <td>2396</td>\n",
       "      <td>6</td>\n",
       "      <td>7</td>\n",
       "      <td>3</td>\n",
       "      <td>0</td>\n",
       "    </tr>\n",
       "    <tr>\n",
       "      <th>3</th>\n",
       "      <td>33</td>\n",
       "      <td>3</td>\n",
       "      <td>4</td>\n",
       "      <td>5</td>\n",
       "      <td>4</td>\n",
       "      <td>Female</td>\n",
       "      <td>1</td>\n",
       "      <td>2909</td>\n",
       "      <td>23159</td>\n",
       "      <td>1</td>\n",
       "      <td>8</td>\n",
       "      <td>3</td>\n",
       "      <td>8</td>\n",
       "    </tr>\n",
       "    <tr>\n",
       "      <th>4</th>\n",
       "      <td>27</td>\n",
       "      <td>2</td>\n",
       "      <td>1</td>\n",
       "      <td>7</td>\n",
       "      <td>1</td>\n",
       "      <td>Male</td>\n",
       "      <td>1</td>\n",
       "      <td>3468</td>\n",
       "      <td>16632</td>\n",
       "      <td>9</td>\n",
       "      <td>6</td>\n",
       "      <td>3</td>\n",
       "      <td>2</td>\n",
       "    </tr>\n",
       "    <tr>\n",
       "      <th>...</th>\n",
       "      <td>...</td>\n",
       "      <td>...</td>\n",
       "      <td>...</td>\n",
       "      <td>...</td>\n",
       "      <td>...</td>\n",
       "      <td>...</td>\n",
       "      <td>...</td>\n",
       "      <td>...</td>\n",
       "      <td>...</td>\n",
       "      <td>...</td>\n",
       "      <td>...</td>\n",
       "      <td>...</td>\n",
       "      <td>...</td>\n",
       "    </tr>\n",
       "    <tr>\n",
       "      <th>1465</th>\n",
       "      <td>36</td>\n",
       "      <td>23</td>\n",
       "      <td>2</td>\n",
       "      <td>2061</td>\n",
       "      <td>3</td>\n",
       "      <td>Male</td>\n",
       "      <td>2</td>\n",
       "      <td>2571</td>\n",
       "      <td>12290</td>\n",
       "      <td>4</td>\n",
       "      <td>17</td>\n",
       "      <td>3</td>\n",
       "      <td>5</td>\n",
       "    </tr>\n",
       "    <tr>\n",
       "      <th>1466</th>\n",
       "      <td>39</td>\n",
       "      <td>6</td>\n",
       "      <td>1</td>\n",
       "      <td>2062</td>\n",
       "      <td>4</td>\n",
       "      <td>Male</td>\n",
       "      <td>3</td>\n",
       "      <td>9991</td>\n",
       "      <td>21457</td>\n",
       "      <td>4</td>\n",
       "      <td>9</td>\n",
       "      <td>5</td>\n",
       "      <td>7</td>\n",
       "    </tr>\n",
       "    <tr>\n",
       "      <th>1467</th>\n",
       "      <td>27</td>\n",
       "      <td>4</td>\n",
       "      <td>3</td>\n",
       "      <td>2064</td>\n",
       "      <td>2</td>\n",
       "      <td>Male</td>\n",
       "      <td>2</td>\n",
       "      <td>6142</td>\n",
       "      <td>5174</td>\n",
       "      <td>1</td>\n",
       "      <td>6</td>\n",
       "      <td>0</td>\n",
       "      <td>6</td>\n",
       "    </tr>\n",
       "    <tr>\n",
       "      <th>1468</th>\n",
       "      <td>49</td>\n",
       "      <td>2</td>\n",
       "      <td>3</td>\n",
       "      <td>2065</td>\n",
       "      <td>4</td>\n",
       "      <td>Male</td>\n",
       "      <td>2</td>\n",
       "      <td>5390</td>\n",
       "      <td>13243</td>\n",
       "      <td>2</td>\n",
       "      <td>17</td>\n",
       "      <td>3</td>\n",
       "      <td>9</td>\n",
       "    </tr>\n",
       "    <tr>\n",
       "      <th>1469</th>\n",
       "      <td>34</td>\n",
       "      <td>8</td>\n",
       "      <td>3</td>\n",
       "      <td>2068</td>\n",
       "      <td>2</td>\n",
       "      <td>Male</td>\n",
       "      <td>2</td>\n",
       "      <td>4404</td>\n",
       "      <td>10228</td>\n",
       "      <td>2</td>\n",
       "      <td>6</td>\n",
       "      <td>3</td>\n",
       "      <td>4</td>\n",
       "    </tr>\n",
       "  </tbody>\n",
       "</table>\n",
       "<p>1470 rows × 13 columns</p>\n",
       "</div>"
      ],
      "text/plain": [
       "      Age  DistanceFromHome  Education  EmployeeNumber  \\\n",
       "0      41                 1          2               1   \n",
       "1      49                 8          1               2   \n",
       "2      37                 2          2               4   \n",
       "3      33                 3          4               5   \n",
       "4      27                 2          1               7   \n",
       "...   ...               ...        ...             ...   \n",
       "1465   36                23          2            2061   \n",
       "1466   39                 6          1            2062   \n",
       "1467   27                 4          3            2064   \n",
       "1468   49                 2          3            2065   \n",
       "1469   34                 8          3            2068   \n",
       "\n",
       "      EnvironmentSatisfaction  Gender  JobLevel  MonthlyIncome  MonthlyRate  \\\n",
       "0                           2  Female         2           5993        19479   \n",
       "1                           3    Male         2           5130        24907   \n",
       "2                           4    Male         1           2090         2396   \n",
       "3                           4  Female         1           2909        23159   \n",
       "4                           1    Male         1           3468        16632   \n",
       "...                       ...     ...       ...            ...          ...   \n",
       "1465                        3    Male         2           2571        12290   \n",
       "1466                        4    Male         3           9991        21457   \n",
       "1467                        2    Male         2           6142         5174   \n",
       "1468                        4    Male         2           5390        13243   \n",
       "1469                        2    Male         2           4404        10228   \n",
       "\n",
       "      NumCompaniesWorked  TotalWorkingYears  TrainingTimesLastYear  \\\n",
       "0                      8                  8                      0   \n",
       "1                      1                 10                      3   \n",
       "2                      6                  7                      3   \n",
       "3                      1                  8                      3   \n",
       "4                      9                  6                      3   \n",
       "...                  ...                ...                    ...   \n",
       "1465                   4                 17                      3   \n",
       "1466                   4                  9                      5   \n",
       "1467                   1                  6                      0   \n",
       "1468                   2                 17                      3   \n",
       "1469                   2                  6                      3   \n",
       "\n",
       "      YearsAtCompany  \n",
       "0                  6  \n",
       "1                 10  \n",
       "2                  0  \n",
       "3                  8  \n",
       "4                  2  \n",
       "...              ...  \n",
       "1465               5  \n",
       "1466               7  \n",
       "1467               6  \n",
       "1468               9  \n",
       "1469               4  \n",
       "\n",
       "[1470 rows x 13 columns]"
      ]
     },
     "execution_count": 3,
     "metadata": {},
     "output_type": "execute_result"
    }
   ],
   "source": [
    "atributes = ['Age','DistanceFromHome','Education', 'EmployeeNumber', 'EnvironmentSatisfaction', 'Gender', 'JobLevel', 'MonthlyIncome', 'MonthlyRate', 'NumCompaniesWorked', 'TotalWorkingYears', 'TrainingTimesLastYear', 'YearsAtCompany']\n",
    "data = pd.read_csv(\"HR-Employee-Attrition.csv\",usecols=atributes)\n",
    "data"
   ]
  },
  {
   "cell_type": "markdown",
   "metadata": {},
   "source": [
    "### Graficki prikaz koliko radnika ima koji stepen edukacije"
   ]
  },
  {
   "cell_type": "code",
   "execution_count": 4,
   "metadata": {},
   "outputs": [
    {
     "name": "stdout",
     "output_type": "stream",
     "text": [
      "3    572\n",
      "4    398\n",
      "2    282\n",
      "1    170\n",
      "5     48\n",
      "Name: Education, dtype: int64\n"
     ]
    },
    {
     "data": {
      "text/plain": [
       "<matplotlib.axes._subplots.AxesSubplot at 0x1939a20fe80>"
      ]
     },
     "execution_count": 4,
     "metadata": {},
     "output_type": "execute_result"
    },
    {
     "data": {
      "image/png": "[encoded data removed]",
      "text/plain": [
       "<Figure size 504x288 with 1 Axes>"
      ]
     },
     "metadata": {
      "needs_background": "light"
     },
     "output_type": "display_data"
    }
   ],
   "source": [
    "print(data['Education'].value_counts())\n",
    "\n",
    "plt.figure(figsize=(7,4))\n",
    "sns.countplot('Education', data=data)"
   ]
  },
  {
   "cell_type": "markdown",
   "metadata": {},
   "source": [
    "### Raspodela zaposlenih po broju kompanija za koje su ranije radili i ukupnom broju godina koliko rade"
   ]
  },
  {
   "cell_type": "code",
   "execution_count": 5,
   "metadata": {},
   "outputs": [
    {
     "data": {
      "image/png": "[encoded data removed]",
      "text/plain": [
       "<Figure size 432x288 with 1 Axes>"
      ]
     },
     "metadata": {
      "needs_background": "light"
     },
     "output_type": "display_data"
    }
   ],
   "source": [
    "# po broju kompanija za koje su radilil \n",
    "data_temp = (data[\"NumCompaniesWorked\"].value_counts()[:20])\n",
    "Name = pd.DataFrame(data_temp/data_temp.sum())\n",
    "Name.columns=[\"NumCompaniesWorked\"]\n",
    "Name.plot.bar()\n",
    "plt.show()"
   ]
  },
  {
   "cell_type": "code",
   "execution_count": 6,
   "metadata": {},
   "outputs": [
    {
     "data": {
      "image/png": "[encoded data removed]",
      "text/plain": [
       "<Figure size 432x288 with 1 Axes>"
      ]
     },
     "metadata": {
      "needs_background": "light"
     },
     "output_type": "display_data"
    }
   ],
   "source": [
    "# po ukupnom broju radnih godina\n",
    "Stars = pd.DataFrame(data_temp/data_temp.sum())\n",
    "Stars.columns=[\"TrainingTimesLastYear\"]\n",
    "Stars.plot.bar()\n",
    "plt.show()"
   ]
  },
  {
   "cell_type": "markdown",
   "metadata": {},
   "source": [
    "### Graficki prikaz broja po nivou posla zaposlenih koji u kompaniji rade duze od 5 godina"
   ]
  },
  {
   "cell_type": "code",
   "execution_count": 7,
   "metadata": {},
   "outputs": [
    {
     "data": {
      "image/png": "[encoded data removed]",
      "text/plain": [
       "<Figure size 432x288 with 1 Axes>"
      ]
     },
     "metadata": {
      "needs_background": "light"
     },
     "output_type": "display_data"
    }
   ],
   "source": [
    "data_temp1 = data.loc[data[\"YearsAtCompany\"]>5,\"JobLevel\"]\n",
    "data_temp1=data_temp1.value_counts()\n",
    "data_temp1.plot.bar()\n",
    "plt.show()"
   ]
  },
  {
   "cell_type": "code",
   "execution_count": 8,
   "metadata": {},
   "outputs": [
    {
     "data": {
      "text/plain": [
       "1    543\n",
       "2    534\n",
       "3    218\n",
       "4    106\n",
       "5     69\n",
       "Name: JobLevel, dtype: int64"
      ]
     },
     "execution_count": 8,
     "metadata": {},
     "output_type": "execute_result"
    }
   ],
   "source": [
    "# broj zaposlenih sa odredjenim nivoom posla\n",
    "data_temp1 = data[\"JobLevel\"].value_counts() \n",
    "data_temp1"
   ]
  },
  {
   "cell_type": "code",
   "execution_count": 9,
   "metadata": {},
   "outputs": [
    {
     "data": {
      "text/plain": [
       "2    293\n",
       "3    157\n",
       "1    119\n",
       "4     77\n",
       "5     48\n",
       "Name: JobLevel, dtype: int64"
      ]
     },
     "execution_count": 9,
     "metadata": {},
     "output_type": "execute_result"
    }
   ],
   "source": [
    "# prebrojava zaposlene na odrejdenom nivou koji su duze od 5 godina u kompaniji\n",
    "data_temp = data.loc[data[\"YearsAtCompany\"]>5,\"JobLevel\"]  \n",
    "data_temp=data_temp.value_counts()\n",
    "data_temp"
   ]
  },
  {
   "cell_type": "markdown",
   "metadata": {},
   "source": [
    "### Uslovna verovatnoca\n",
    "Posmatramo dva slučajna dog. A i B. Ako je poznato da jgjpse jedan od njih ostvario, treba odrediti verovatnoću da se ostvario i drugi"
   ]
  },
  {
   "cell_type": "code",
   "execution_count": 10,
   "metadata": {},
   "outputs": [
    {
     "data": {
      "text/html": [
       "<div>\n",
       "<style scoped>\n",
       "    .dataframe tbody tr th:only-of-type {\n",
       "        vertical-align: middle;\n",
       "    }\n",
       "\n",
       "    .dataframe tbody tr th {\n",
       "        vertical-align: top;\n",
       "    }\n",
       "\n",
       "    .dataframe thead th {\n",
       "        text-align: right;\n",
       "    }\n",
       "</style>\n",
       "<table border=\"1\" class=\"dataframe\">\n",
       "  <thead>\n",
       "    <tr style=\"text-align: right;\">\n",
       "      <th></th>\n",
       "      <th>Uslovna Verovatnoca</th>\n",
       "    </tr>\n",
       "  </thead>\n",
       "  <tbody>\n",
       "    <tr>\n",
       "      <th>1</th>\n",
       "      <td>0.219153</td>\n",
       "    </tr>\n",
       "    <tr>\n",
       "      <th>2</th>\n",
       "      <td>0.548689</td>\n",
       "    </tr>\n",
       "    <tr>\n",
       "      <th>3</th>\n",
       "      <td>0.720183</td>\n",
       "    </tr>\n",
       "    <tr>\n",
       "      <th>4</th>\n",
       "      <td>0.726415</td>\n",
       "    </tr>\n",
       "    <tr>\n",
       "      <th>5</th>\n",
       "      <td>0.695652</td>\n",
       "    </tr>\n",
       "  </tbody>\n",
       "</table>\n",
       "</div>"
      ],
      "text/plain": [
       "   Uslovna Verovatnoca\n",
       "1             0.219153\n",
       "2             0.548689\n",
       "3             0.720183\n",
       "4             0.726415\n",
       "5             0.695652"
      ]
     },
     "execution_count": 10,
     "metadata": {},
     "output_type": "execute_result"
    }
   ],
   "source": [
    "data_temp1 = data[\"JobLevel\"].value_counts()\n",
    "\n",
    "P_Uslovna_Verovatnoca = pd.DataFrame(data_temp/data_temp1)\n",
    "P_Uslovna_Verovatnoca.columns = [\"Uslovna Verovatnoca\"]\n",
    "P_Uslovna_Verovatnoca"
   ]
  },
  {
   "cell_type": "markdown",
   "metadata": {},
   "source": [
    "### Iscrtavanje histograma"
   ]
  },
  {
   "cell_type": "code",
   "execution_count": 11,
   "metadata": {},
   "outputs": [
    {
     "data": {
      "image/png": "[encoded data removed]",
      "text/plain": [
       "<Figure size 432x288 with 1 Axes>"
      ]
     },
     "metadata": {
      "needs_background": "light"
     },
     "output_type": "display_data"
    }
   ],
   "source": [
    "#Prikaz histograma \n",
    "# nacin na koji cu prikazati podatke, koristi se za podatke koji su rayliciti na osnovu histograma se prave skale\n",
    "\n",
    "atributes = ['Age']\n",
    "df = pd.read_csv(\"HR-Employee-Attrition.csv\",usecols=atributes)\n",
    "\n",
    "hist = df.hist(density=True,bins=10) \n",
    "plt.show()"
   ]
  },
  {
   "cell_type": "markdown",
   "metadata": {},
   "source": [
    "### Iscrtvaanje gausove krivve"
   ]
  },
  {
   "cell_type": "code",
   "execution_count": 12,
   "metadata": {},
   "outputs": [
    {
     "data": {
      "image/png": "[encoded data removed]",
      "text/plain": [
       "<Figure size 432x288 with 1 Axes>"
      ]
     },
     "metadata": {
      "needs_background": "light"
     },
     "output_type": "display_data"
    }
   ],
   "source": [
    "from scipy.stats import norm\n",
    "\n",
    "hist = df.hist(density=True,bins=10)\n",
    "\n",
    "step=0.03 # da bi bila sto zobljenija\n",
    "x = np.arange(18, 60, step)\n",
    "m=35\n",
    "sig=14\n",
    "P_norm= norm.pdf(x, m, sig)\n",
    "\n",
    "plt.plot(x, P_norm*1.5, 'r', linewidth=2.0)\n",
    "plt.show()"
   ]
  },
  {
   "cell_type": "markdown",
   "metadata": {},
   "source": [
    "### Prikaz broja zaposlenih koji imaju visok nivo obrazovanja, podeljeni prema polu"
   ]
  },
  {
   "cell_type": "code",
   "execution_count": 13,
   "metadata": {},
   "outputs": [
    {
     "data": {
      "image/png": "[encoded data removed]",
      "text/plain": [
       "<Figure size 432x288 with 1 Axes>"
      ]
     },
     "metadata": {
      "needs_background": "light"
     },
     "output_type": "display_data"
    }
   ],
   "source": [
    "data_temp1 = data.loc[data[\"Education\"]>4.4,\"Gender\"]\n",
    "data_temp1=data_temp1.value_counts()\n",
    "data_temp1.plot.bar()\n",
    "plt.show()"
   ]
  },
  {
   "cell_type": "markdown",
   "metadata": {},
   "source": [
    "### Podela zaposlenih prema stepenu obrazovanaj na viisoko, srednje i niko obrazovanje"
   ]
  },
  {
   "cell_type": "code",
   "execution_count": 14,
   "metadata": {},
   "outputs": [
    {
     "name": "stdout",
     "output_type": "stream",
     "text": [
      "Broj viskoko obrazovanih: \n",
      "446\n",
      "Broj srednje obrazovanih: \n",
      "1470\n",
      "Broj nisko obrazovanih: \n",
      "170\n"
     ]
    },
    {
     "data": {
      "image/png": "[encoded data removed]",
      "text/plain": [
       "<Figure size 432x288 with 1 Axes>"
      ]
     },
     "metadata": {
      "needs_background": "light"
     },
     "output_type": "display_data"
    }
   ],
   "source": [
    "# visoko obrazovani - 4, 5 stepen\n",
    "# srednje obrazovani - 3, 2\n",
    "# nisko obrazovani - 1\n",
    "\n",
    "\n",
    "education_high_value = (data[\"Education\"] > 3).value_counts()\n",
    "education_mid_value = ((data[\"Education\"] >= 2) & (data[\"Education\"]) <= 3).value_counts()\n",
    "education_low_value = (data[\"Education\"] <= 1).value_counts()\n",
    "\n",
    "\n",
    "high = education_high_value[True]\n",
    "print(\"Broj viskoko obrazovanih: \")\n",
    "print(high)\n",
    "mid = education_mid_value[True]\n",
    "print(\"Broj srednje obrazovanih: \")\n",
    "print(mid)\n",
    "low = education_low_value[True]\n",
    "print(\"Broj nisko obrazovanih: \")\n",
    "print(low)\n",
    "\n",
    "P_Rezultat = pd.DataFrame([low, mid, high]/(low + mid + high))\n",
    "P_Rezultat.columns=[\"Udeo prema edukaciji\"]\n",
    "P_Rezultat.index = [\"Low\", \"Mid\", \"High\"]\n",
    "P_Rezultat.plot.bar()\n",
    "plt.show()"
   ]
  },
  {
   "cell_type": "code",
   "execution_count": 15,
   "metadata": {},
   "outputs": [
    {
     "name": "stdout",
     "output_type": "stream",
     "text": [
      "Broj viskoko placenih: \n",
      "556\n",
      "Broj srednje placenih: \n",
      "1470\n",
      "Broj nisko placenih: \n",
      "543\n"
     ]
    },
    {
     "data": {
      "image/png": "[encoded data removed]",
      "text/plain": [
       "<Figure size 432x288 with 1 Axes>"
      ]
     },
     "metadata": {
      "needs_background": "light"
     },
     "output_type": "display_data"
    }
   ],
   "source": [
    "education_high_value = (data[\"MonthlyIncome\"] > 6000).value_counts()\n",
    "education_mid_value = ((data[\"MonthlyIncome\"] >= 4001) & (data[\"MonthlyIncome\"]) <= 6001).value_counts()\n",
    "education_low_value = (data[\"MonthlyIncome\"] <= 4000).value_counts()\n",
    "\n",
    "\n",
    "high = education_high_value[True]\n",
    "print(\"Broj viskoko placenih: \")\n",
    "print(high)\n",
    "mid = education_mid_value[True]\n",
    "print(\"Broj srednje placenih: \")\n",
    "print(mid)\n",
    "low = education_low_value[True]\n",
    "print(\"Broj nisko placenih: \")\n",
    "print(low)\n",
    "\n",
    "P_Rezultat = pd.DataFrame([low, mid, high]/(low + mid + high))\n",
    "P_Rezultat.columns=[\"Udeo prema nivou posla\"]\n",
    "P_Rezultat.index = [\"Low\", \"Mid\", \"High\"]\n",
    "P_Rezultat.plot.bar()\n",
    "plt.show()"
   ]
  },
  {
   "cell_type": "markdown",
   "metadata": {},
   "source": [
    "### Linearna regresija"
   ]
  },
  {
   "cell_type": "code",
   "execution_count": 16,
   "metadata": {},
   "outputs": [
    {
     "data": {
      "image/png": "[encoded data removed]",
      "text/plain": [
       "<Figure size 432x288 with 1 Axes>"
      ]
     },
     "metadata": {
      "needs_background": "light"
     },
     "output_type": "display_data"
    },
    {
     "name": "stdout",
     "output_type": "stream",
     "text": [
      "                            OLS Regression Results                            \n",
      "==============================================================================\n",
      "Dep. Variable:                    Age   R-squared:                       0.248\n",
      "Model:                            OLS   Adj. R-squared:                  0.247\n",
      "Method:                 Least Squares   F-statistic:                     483.8\n",
      "Date:                Tue, 15 Jun 2021   Prob (F-statistic):           6.67e-93\n",
      "Time:                        15:18:29   Log-Likelihood:                -5127.9\n",
      "No. Observations:                1470   AIC:                         1.026e+04\n",
      "Df Residuals:                    1468   BIC:                         1.027e+04\n",
      "Df Model:                           1                                         \n",
      "Covariance Type:            nonrobust                                         \n",
      "=================================================================================\n",
      "                    coef    std err          t      P>|t|      [0.025      0.975]\n",
      "---------------------------------------------------------------------------------\n",
      "Intercept        30.6417      0.353     86.908      0.000      29.950      31.333\n",
      "MonthlyIncome     0.0010   4.39e-05     21.995      0.000       0.001       0.001\n",
      "==============================================================================\n",
      "Omnibus:                       93.030   Durbin-Watson:                   1.988\n",
      "Prob(Omnibus):                  0.000   Jarque-Bera (JB):              109.573\n",
      "Skew:                           0.659   Prob(JB):                     1.61e-24\n",
      "Kurtosis:                       3.223   Cond. No.                     1.37e+04\n",
      "==============================================================================\n",
      "\n",
      "Warnings:\n",
      "[1] Standard Errors assume that the covariance matrix of the errors is correctly specified.\n",
      "[2] The condition number is large, 1.37e+04. This might indicate that there are\n",
      "strong multicollinearity or other numerical problems.\n"
     ]
    }
   ],
   "source": [
    "df = pd.read_csv('HR-Employee-Attrition.csv')   # morala sam ponovo da ucitam podate u suprotnom  ne radi\n",
    "df.plot('Age', 'MonthlyIncome', style='x')\n",
    "plt.show()\n",
    "\n",
    "Regresija= sm.ols('Age ~ MonthlyIncome', df).fit()\n",
    "print(Regresija.summary())"
   ]
  },
  {
   "cell_type": "markdown",
   "metadata": {},
   "source": [
    "### Visestruka regresija"
   ]
  },
  {
   "cell_type": "code",
   "execution_count": 17,
   "metadata": {},
   "outputs": [
    {
     "name": "stdout",
     "output_type": "stream",
     "text": [
      "                            OLS Regression Results                            \n",
      "==============================================================================\n",
      "Dep. Variable:                    Age   R-squared:                       0.248\n",
      "Model:                            OLS   Adj. R-squared:                  0.247\n",
      "Method:                 Least Squares   F-statistic:                     241.9\n",
      "Date:                Tue, 15 Jun 2021   Prob (F-statistic):           1.65e-91\n",
      "Time:                        15:18:29   Log-Likelihood:                -5127.7\n",
      "No. Observations:                1470   AIC:                         1.026e+04\n",
      "Df Residuals:                    1467   BIC:                         1.028e+04\n",
      "Df Model:                           2                                         \n",
      "Covariance Type:            nonrobust                                         \n",
      "=================================================================================\n",
      "                    coef    std err          t      P>|t|      [0.025      0.975]\n",
      "---------------------------------------------------------------------------------\n",
      "Intercept        30.4493      0.538     56.602      0.000      29.394      31.505\n",
      "MonthlyIncome     0.0010    4.4e-05     21.959      0.000       0.001       0.001\n",
      "MonthlyRate    1.377e-05   2.91e-05      0.474      0.636   -4.33e-05    7.08e-05\n",
      "==============================================================================\n",
      "Omnibus:                       92.330   Durbin-Watson:                   1.987\n",
      "Prob(Omnibus):                  0.000   Jarque-Bera (JB):              108.612\n",
      "Skew:                           0.657   Prob(JB):                     2.60e-24\n",
      "Kurtosis:                       3.220   Cond. No.                     4.46e+04\n",
      "==============================================================================\n",
      "\n",
      "Warnings:\n",
      "[1] Standard Errors assume that the covariance matrix of the errors is correctly specified.\n",
      "[2] The condition number is large, 4.46e+04. This might indicate that there are\n",
      "strong multicollinearity or other numerical problems.\n"
     ]
    }
   ],
   "source": [
    "df = pd.read_csv('HR-Employee-Attrition.csv') \n",
    "Rez= sm.ols('Age ~ MonthlyIncome + MonthlyRate ', df).fit()\n",
    "print(Rez.summary())"
   ]
  },
  {
   "cell_type": "markdown",
   "metadata": {},
   "source": [
    "### Polinomska regresija"
   ]
  },
  {
   "cell_type": "code",
   "execution_count": 18,
   "metadata": {},
   "outputs": [
    {
     "data": {
      "text/html": [
       "<div>\n",
       "<style scoped>\n",
       "    .dataframe tbody tr th:only-of-type {\n",
       "        vertical-align: middle;\n",
       "    }\n",
       "\n",
       "    .dataframe tbody tr th {\n",
       "        vertical-align: top;\n",
       "    }\n",
       "\n",
       "    .dataframe thead th {\n",
       "        text-align: right;\n",
       "    }\n",
       "</style>\n",
       "<table border=\"1\" class=\"dataframe\">\n",
       "  <thead>\n",
       "    <tr style=\"text-align: right;\">\n",
       "      <th></th>\n",
       "      <th>MonthlyIncome</th>\n",
       "      <th>MonthlyRate</th>\n",
       "    </tr>\n",
       "  </thead>\n",
       "  <tbody>\n",
       "    <tr>\n",
       "      <th>count</th>\n",
       "      <td>1470.000000</td>\n",
       "      <td>1470.000000</td>\n",
       "    </tr>\n",
       "    <tr>\n",
       "      <th>mean</th>\n",
       "      <td>6502.931293</td>\n",
       "      <td>14313.103401</td>\n",
       "    </tr>\n",
       "    <tr>\n",
       "      <th>std</th>\n",
       "      <td>4707.956783</td>\n",
       "      <td>7117.786044</td>\n",
       "    </tr>\n",
       "    <tr>\n",
       "      <th>min</th>\n",
       "      <td>1009.000000</td>\n",
       "      <td>2094.000000</td>\n",
       "    </tr>\n",
       "    <tr>\n",
       "      <th>25%</th>\n",
       "      <td>2911.000000</td>\n",
       "      <td>8047.000000</td>\n",
       "    </tr>\n",
       "    <tr>\n",
       "      <th>50%</th>\n",
       "      <td>4919.000000</td>\n",
       "      <td>14235.500000</td>\n",
       "    </tr>\n",
       "    <tr>\n",
       "      <th>75%</th>\n",
       "      <td>8379.000000</td>\n",
       "      <td>20461.500000</td>\n",
       "    </tr>\n",
       "    <tr>\n",
       "      <th>max</th>\n",
       "      <td>19999.000000</td>\n",
       "      <td>26999.000000</td>\n",
       "    </tr>\n",
       "  </tbody>\n",
       "</table>\n",
       "</div>"
      ],
      "text/plain": [
       "       MonthlyIncome   MonthlyRate\n",
       "count    1470.000000   1470.000000\n",
       "mean     6502.931293  14313.103401\n",
       "std      4707.956783   7117.786044\n",
       "min      1009.000000   2094.000000\n",
       "25%      2911.000000   8047.000000\n",
       "50%      4919.000000  14235.500000\n",
       "75%      8379.000000  20461.500000\n",
       "max     19999.000000  26999.000000"
      ]
     },
     "execution_count": 18,
     "metadata": {},
     "output_type": "execute_result"
    }
   ],
   "source": [
    "attributes = ['MonthlyIncome', 'MonthlyRate']\n",
    "df = pd.read_csv('HR-Employee-Attrition.csv', usecols=attributes)\n",
    "df.columns = ['MonthlyIncome', 'MonthlyRate']\n",
    "df.head()\n",
    "df.describe()"
   ]
  },
  {
   "cell_type": "markdown",
   "metadata": {},
   "source": [
    "### Koeficijent korelacije"
   ]
  },
  {
   "cell_type": "code",
   "execution_count": 19,
   "metadata": {},
   "outputs": [
    {
     "data": {
      "text/plain": [
       "0.4978545669265802"
      ]
     },
     "execution_count": 19,
     "metadata": {},
     "output_type": "execute_result"
    }
   ],
   "source": [
    "data.cov()['MonthlyIncome']['Age']/(data.std()['MonthlyIncome']*data.std()['Age'])"
   ]
  },
  {
   "cell_type": "markdown",
   "metadata": {},
   "source": [
    "### Medijana, standardna devijacija, aritmeticka sredina, matrica kovarijanse"
   ]
  },
  {
   "cell_type": "code",
   "execution_count": 20,
   "metadata": {},
   "outputs": [
    {
     "name": "stdout",
     "output_type": "stream",
     "text": [
      "Ratings\n",
      "Medijana:\n",
      "3.0\n",
      "Standardna devijacija:\n",
      "1.0241649445978729\n",
      "Aritmeticka sredina\n",
      "2.912925170068027\n",
      "------------------------\n",
      "Reviews\n",
      "Medijana:\n",
      "4919.0\n",
      "Standardna devijacija:\n",
      "4707.956783097995\n",
      "Aritmeticka sredina\n",
      "6502.931292517007\n",
      "MATRICA KOVARIJANSE:\n",
      "                            Age   Education  EmployeeNumber     JobLevel  \\\n",
      "Age                   83.455049    1.946390      -55.797199     5.153276   \n",
      "Education              1.946390    1.048914       25.939251     0.115170   \n",
      "EmployeeNumber       -55.797199   25.939251   362433.299749   -12.341279   \n",
      "JobLevel               5.153276    0.115170      -12.341279     1.225316   \n",
      "MonthlyIncome      21412.198982  457.874204   -42028.530023  4952.416922   \n",
      "MonthlyRate         1823.988823 -190.148240    54198.679015   311.714963   \n",
      "TotalWorkingYears     48.361684    1.181612      -67.289749     6.737044   \n",
      "YearsAtCompany        17.423359    0.433659      -41.458396     3.626435   \n",
      "\n",
      "                   MonthlyIncome   MonthlyRate  TotalWorkingYears  \\\n",
      "Age                 2.141220e+04  1.823989e+03          48.361684   \n",
      "Education           4.578742e+02 -1.901482e+02           1.181612   \n",
      "EmployeeNumber     -4.202853e+04  5.419868e+04         -67.289749   \n",
      "JobLevel            4.952417e+03  3.117150e+02           6.737044   \n",
      "MonthlyIncome       2.216486e+07  1.166613e+06       28312.303770   \n",
      "MonthlyRate         1.166613e+06  5.066288e+07        1464.435332   \n",
      "TotalWorkingYears   2.831230e+04  1.464435e+03          60.540563   \n",
      "YearsAtCompany      1.483373e+04 -1.031535e+03          29.942577   \n",
      "\n",
      "                   YearsAtCompany  \n",
      "Age                     17.423359  \n",
      "Education                0.433659  \n",
      "EmployeeNumber         -41.458396  \n",
      "JobLevel                 3.626435  \n",
      "MonthlyIncome        14833.730990  \n",
      "MonthlyRate          -1031.535222  \n",
      "TotalWorkingYears       29.942577  \n",
      "YearsAtCompany          37.534310  \n"
     ]
    }
   ],
   "source": [
    "#Medijana, standardna devijacija, aritmeticka sredina, matrica kovarijanse\n",
    "atributi = ['Age','Education','EmployeeNumber', 'JobLevel', 'MonthlyIncome', 'MonthlyRate', 'TotalWorkingYears', 'YearsAtCompany']\n",
    "data = pd.read_csv(\"HR-Employee-Attrition.csv\", usecols=atributi)\n",
    "data.head()\n",
    "\n",
    "#Medijana\n",
    "\n",
    "med_Ratings = data['Education'].median()\n",
    "med_Reviews = data['MonthlyIncome'].median()\n",
    "\n",
    "\n",
    "#Standardna devijacija\n",
    "\n",
    "std_Ratings = data['Education'].std()\n",
    "std_Reviews = data['MonthlyIncome'].std()\n",
    "\n",
    "\n",
    "#Aritmeticka sredina\n",
    "\n",
    "sr_vr_Ratings = data['Education'].mean()\n",
    "sr_vr_Reviews = data['MonthlyIncome'].mean()\n",
    "\n",
    "\n",
    "print(\"Ratings\")\n",
    "print(\"Medijana:\")\n",
    "print(med_Ratings)\n",
    "print(\"Standardna devijacija:\")\n",
    "print(std_Ratings)\n",
    "print(\"Aritmeticka sredina\")\n",
    "print(sr_vr_Ratings)\n",
    "print(\"------------------------\")\n",
    "print(\"Reviews\")\n",
    "print(\"Medijana:\")\n",
    "print(med_Reviews)\n",
    "print(\"Standardna devijacija:\")\n",
    "print(std_Reviews)\n",
    "print(\"Aritmeticka sredina\")\n",
    "print(sr_vr_Reviews)\n",
    "\n",
    "print(\"MATRICA KOVARIJANSE:\")\n",
    "print(data.cov())"
   ]
  },
  {
   "cell_type": "code",
   "execution_count": 21,
   "metadata": {},
   "outputs": [
    {
     "data": {
      "text/html": [
       "<div>\n",
       "<style scoped>\n",
       "    .dataframe tbody tr th:only-of-type {\n",
       "        vertical-align: middle;\n",
       "    }\n",
       "\n",
       "    .dataframe tbody tr th {\n",
       "        vertical-align: top;\n",
       "    }\n",
       "\n",
       "    .dataframe thead th {\n",
       "        text-align: right;\n",
       "    }\n",
       "</style>\n",
       "<table border=\"1\" class=\"dataframe\">\n",
       "  <thead>\n",
       "    <tr style=\"text-align: right;\">\n",
       "      <th></th>\n",
       "      <th>Age</th>\n",
       "      <th>Education</th>\n",
       "      <th>EmployeeNumber</th>\n",
       "      <th>JobLevel</th>\n",
       "      <th>MonthlyIncome</th>\n",
       "      <th>MonthlyRate</th>\n",
       "      <th>TotalWorkingYears</th>\n",
       "      <th>YearsAtCompany</th>\n",
       "    </tr>\n",
       "  </thead>\n",
       "  <tbody>\n",
       "    <tr>\n",
       "      <th>count</th>\n",
       "      <td>1470.000000</td>\n",
       "      <td>1470.000000</td>\n",
       "      <td>1470.000000</td>\n",
       "      <td>1470.000000</td>\n",
       "      <td>1470.000000</td>\n",
       "      <td>1470.000000</td>\n",
       "      <td>1470.000000</td>\n",
       "      <td>1470.000000</td>\n",
       "    </tr>\n",
       "    <tr>\n",
       "      <th>mean</th>\n",
       "      <td>36.923810</td>\n",
       "      <td>2.912925</td>\n",
       "      <td>1024.865306</td>\n",
       "      <td>2.063946</td>\n",
       "      <td>6502.931293</td>\n",
       "      <td>14313.103401</td>\n",
       "      <td>11.279592</td>\n",
       "      <td>7.008163</td>\n",
       "    </tr>\n",
       "    <tr>\n",
       "      <th>std</th>\n",
       "      <td>9.135373</td>\n",
       "      <td>1.024165</td>\n",
       "      <td>602.024335</td>\n",
       "      <td>1.106940</td>\n",
       "      <td>4707.956783</td>\n",
       "      <td>7117.786044</td>\n",
       "      <td>7.780782</td>\n",
       "      <td>6.126525</td>\n",
       "    </tr>\n",
       "    <tr>\n",
       "      <th>min</th>\n",
       "      <td>18.000000</td>\n",
       "      <td>1.000000</td>\n",
       "      <td>1.000000</td>\n",
       "      <td>1.000000</td>\n",
       "      <td>1009.000000</td>\n",
       "      <td>2094.000000</td>\n",
       "      <td>0.000000</td>\n",
       "      <td>0.000000</td>\n",
       "    </tr>\n",
       "    <tr>\n",
       "      <th>25%</th>\n",
       "      <td>30.000000</td>\n",
       "      <td>2.000000</td>\n",
       "      <td>491.250000</td>\n",
       "      <td>1.000000</td>\n",
       "      <td>2911.000000</td>\n",
       "      <td>8047.000000</td>\n",
       "      <td>6.000000</td>\n",
       "      <td>3.000000</td>\n",
       "    </tr>\n",
       "    <tr>\n",
       "      <th>50%</th>\n",
       "      <td>36.000000</td>\n",
       "      <td>3.000000</td>\n",
       "      <td>1020.500000</td>\n",
       "      <td>2.000000</td>\n",
       "      <td>4919.000000</td>\n",
       "      <td>14235.500000</td>\n",
       "      <td>10.000000</td>\n",
       "      <td>5.000000</td>\n",
       "    </tr>\n",
       "    <tr>\n",
       "      <th>75%</th>\n",
       "      <td>43.000000</td>\n",
       "      <td>4.000000</td>\n",
       "      <td>1555.750000</td>\n",
       "      <td>3.000000</td>\n",
       "      <td>8379.000000</td>\n",
       "      <td>20461.500000</td>\n",
       "      <td>15.000000</td>\n",
       "      <td>9.000000</td>\n",
       "    </tr>\n",
       "    <tr>\n",
       "      <th>max</th>\n",
       "      <td>60.000000</td>\n",
       "      <td>5.000000</td>\n",
       "      <td>2068.000000</td>\n",
       "      <td>5.000000</td>\n",
       "      <td>19999.000000</td>\n",
       "      <td>26999.000000</td>\n",
       "      <td>40.000000</td>\n",
       "      <td>40.000000</td>\n",
       "    </tr>\n",
       "  </tbody>\n",
       "</table>\n",
       "</div>"
      ],
      "text/plain": [
       "               Age    Education  EmployeeNumber     JobLevel  MonthlyIncome  \\\n",
       "count  1470.000000  1470.000000     1470.000000  1470.000000    1470.000000   \n",
       "mean     36.923810     2.912925     1024.865306     2.063946    6502.931293   \n",
       "std       9.135373     1.024165      602.024335     1.106940    4707.956783   \n",
       "min      18.000000     1.000000        1.000000     1.000000    1009.000000   \n",
       "25%      30.000000     2.000000      491.250000     1.000000    2911.000000   \n",
       "50%      36.000000     3.000000     1020.500000     2.000000    4919.000000   \n",
       "75%      43.000000     4.000000     1555.750000     3.000000    8379.000000   \n",
       "max      60.000000     5.000000     2068.000000     5.000000   19999.000000   \n",
       "\n",
       "        MonthlyRate  TotalWorkingYears  YearsAtCompany  \n",
       "count   1470.000000        1470.000000     1470.000000  \n",
       "mean   14313.103401          11.279592        7.008163  \n",
       "std     7117.786044           7.780782        6.126525  \n",
       "min     2094.000000           0.000000        0.000000  \n",
       "25%     8047.000000           6.000000        3.000000  \n",
       "50%    14235.500000          10.000000        5.000000  \n",
       "75%    20461.500000          15.000000        9.000000  \n",
       "max    26999.000000          40.000000       40.000000  "
      ]
     },
     "execution_count": 21,
     "metadata": {},
     "output_type": "execute_result"
    }
   ],
   "source": [
    "data.describe()"
   ]
  },
  {
   "cell_type": "code",
   "execution_count": null,
   "metadata": {},
   "outputs": [],
   "source": []
  }
 ],
 "metadata": {
  "kernelspec": {
   "display_name": "Python 3",
   "language": "python",
   "name": "python3"
  },
  "language_info": {
   "codemirror_mode": {
    "name": "ipython",
    "version": 3
   },
   "file_extension": ".py",
   "mimetype": "text/x-python",
   "name": "python",
   "nbconvert_exporter": "python",
   "pygments_lexer": "ipython3",
   "version": "3.8.3"
  }
 },
 "nbformat": 4,
 "nbformat_minor": 4
}
